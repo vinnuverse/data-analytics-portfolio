{
 "cells": [
  {
   "cell_type": "code",
   "execution_count": null,
   "id": "bd913c6b",
   "metadata": {},
   "outputs": [],
   "source": [
    "# Titanic Dataset EDA\n",
    "\n",
    "import pandas as pd\n",
    "import seaborn as sns\n",
    "import matplotlib.pyplot as plt\n",
    "\n",
    "# Load dataset\n",
    "url = \"https://raw.githubusercontent.com/datasciencedojo/datasets/master/titanic.csv\"\n",
    "df = pd.read_csv(url)\n",
    "\n",
    "# Preview\n",
    "print(df.head())\n",
    "print(df.info())\n",
    "\n",
    "# Missing values\n",
    "print(df.isnull().sum())\n",
    "\n",
    "# Survival count\n",
    "sns.countplot(x='Survived', data=df)\n",
    "plt.title(\"Survival Count\")\n",
    "plt.show()\n",
    "\n",
    "# Age distribution\n",
    "sns.histplot(df['Age'].dropna(), bins=30, kde=True)\n",
    "plt.title(\"Age Distribution\")\n",
    "plt.show()\n",
    "\n",
    "# Survival by class\n",
    "sns.barplot(x='Pclass', y='Survived', data=df)\n",
    "plt.title(\"Survival by Class\")\n",
    "plt.show()\n",
    "\n",
    "# Survival by gender\n",
    "sns.barplot(x='Sex', y='Survived', data=df)\n",
    "plt.title(\"Survival by Gender\")\n",
    "plt.show()\n"
   ]
  }
 ],
 "metadata": {
  "language_info": {
   "name": "python"
  }
 },
 "nbformat": 4,
 "nbformat_minor": 5
}
